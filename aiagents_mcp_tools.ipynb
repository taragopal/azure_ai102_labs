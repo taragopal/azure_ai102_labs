{
 "cells": [
  {
   "cell_type": "markdown",
   "id": "342c36e5",
   "metadata": {},
   "source": [
    "# MCP tool discovery\n",
    "\n",
    "## What\n",
    "**Dynamic tool discovery** is a mechanism that allows an AI agent to discover available external tools without needing hardcoded knowledge of each one.\n",
    "> Personal note: Like service discovery in microservices architecture, the AI agent queries the centralized MCP server (acts as a live catalog, or a \"service registry\").\n",
    "\n",
    "This means the tools and the agent implementation are loosely coupled, and enable scalability.\n",
    "\n",
    "## How\n",
    "An MCP server hosts a set of functions that are exposed as tools using the `@mcp.tool` decorator. A client can connect to the server and fetch these tools dynamically. The client then generates function wrappers that are added to the Azure AI Agent's tool definitions.\n",
    "\n",
    "- The MCP server hosts available tools.\n",
    "- The MCP client dynamically discovers the tools.\n",
    "- The Azure AI Agent uses the available tools to respond to user requests.\n",
    "\n",
    "##  Why\n",
    "This approach provides several benefits:\n",
    "- Scalability: Easily add new tools or update existing ones without redeploying agents.\n",
    "- Modularity: Agents can remain simple, focusing on delegation rather than managing tool details.\n",
    "- Maintainability: Centralized tool management reduces duplication and errors.\n",
    "- Flexibility: Supports diverse tool types and complex workflows by aggregating capabilities."
   ]
  },
  {
   "cell_type": "markdown",
   "id": "10108501",
   "metadata": {},
   "source": [
    "# MCP server and client\n",
    "The MCP server hosts your tool catalog, and the MCP client fetches those tools and makes them usable by your agent.\n",
    "\n",
    "## MCP Server\n",
    "The MCP server can be initialized using FastMCP, which uses Python type hints and docstrings tro automatically generate tool definitions, which are served over HTTP.\n",
    "\n",
    "## MCP Client\n",
    "The MCP client acts as a bridge between your MCP server and the Azure AI Agent Service, it performs 3 key tasks:\n",
    "- Discovers available tools from the MCP server using session.list_tools().\n",
    "- Generates Python function stubs that wrap the tools.\n",
    "- Registers those functions with your agent.\n",
    "\n",
    "## Overview of MCP agent tool integration\n",
    "- The MCP server hosts tool definitions decorated with `@mcp.tool`.\n",
    "- The MCP client initializes an MCP client connection to the server.\n",
    "- The MCP client fetches the available tool definitions with `session.list_tools()`.\n",
    "- Each tool is wrapped in an async function that invokes `session.call_tool`\n",
    "- The tool functions are bundled into `FunctionTool` that makes them usable by the agent.\n",
    "- The `FunctionTool` is registered to the agent's toolset."
   ]
  },
  {
   "cell_type": "markdown",
   "id": "1d0b7cb8",
   "metadata": {},
   "source": [
    "# Server setup\n",
    "\n",
    "Refer to [aiagents_mcp_server.py](aiagents_mcp_server.py)"
   ]
  },
  {
   "cell_type": "markdown",
   "id": "4eef4ba9",
   "metadata": {},
   "source": [
    "# Client setup"
   ]
  },
  {
   "cell_type": "code",
   "execution_count": 1,
   "id": "99e50cb5",
   "metadata": {},
   "outputs": [],
   "source": [
    "import os\n",
    "\n",
    "from dotenv import load_dotenv\n",
    "\n",
    "from mcp import ClientSession, StdioServerParameters\n",
    "from mcp.client.stdio import stdio_client\n",
    "from azure.ai.agents import AgentsClient\n",
    "from azure.ai.agents.models import FunctionTool, MessageRole, ListSortOrder\n",
    "from azure.identity import DefaultAzureCredential\n",
    "from contextlib import AsyncExitStack\n",
    "\n",
    "load_dotenv()\n",
    "\n",
    "AGENT_PROJECT_ENDPOINT = os.getenv(\"AGENT_PROJECT_ENDPOINT\")\n",
    "AGENT_MODEL_DEPLOYMENT = os.getenv(\"AGENT_MODEL_DEPLOYMENT\")"
   ]
  },
  {
   "cell_type": "code",
   "execution_count": 2,
   "id": "6ca938fd",
   "metadata": {},
   "outputs": [],
   "source": [
    "async def connect_to_server(exit_stack: AsyncExitStack):\n",
    "    server_params = StdioServerParameters(\n",
    "        command=\"python\",\n",
    "        args=[\"aiagents_mcp_server.py\"],\n",
    "        env=None\n",
    "    )\n",
    "\n",
    "    # Start the MCP server\n",
    "    stdio_transport = await exit_stack.enter_async_context(stdio_client(server_params))\n",
    "    stdio, write = stdio_transport\n",
    "\n",
    "    # Create an MCP client session\n",
    "    session = await exit_stack.enter_async_context(ClientSession(stdio, write))\n",
    "    await session.initialize()\n",
    "\n",
    "    # List available tools\n",
    "    response = await session.list_tools()\n",
    "    tools = response.tools\n",
    "    print(\"\\nConnected to server with tools:\", [tool.name for tool in tools]) \n",
    "    \n",
    "    return session"
   ]
  },
  {
   "cell_type": "code",
   "execution_count": 3,
   "id": "843d3593",
   "metadata": {},
   "outputs": [
    {
     "name": "stdout",
     "output_type": "stream",
     "text": [
      "\n",
      "Connected to server with tools: ['get_inventory_levels', 'get_weekly_sales']\n"
     ]
    }
   ],
   "source": [
    "exit_stack = AsyncExitStack()\n",
    "session = await connect_to_server(exit_stack)"
   ]
  },
  {
   "cell_type": "code",
   "execution_count": 22,
   "id": "ac704365",
   "metadata": {},
   "outputs": [
    {
     "data": {
      "text/plain": [
       "Tool(name='get_inventory_levels', title=None, description='Returns the current inventory levels for all products.\\n\\nReturns:\\n    dict: A dictionary where the keys are product names (str)\\n          and the values are inventory counts (int).', inputSchema={'properties': {}, 'type': 'object'}, outputSchema={'additionalProperties': True, 'type': 'object'}, annotations=None, meta=None)"
      ]
     },
     "execution_count": 22,
     "metadata": {},
     "output_type": "execute_result"
    }
   ],
   "source": [
    "\n",
    "response = await session.list_tools()\n",
    "response.tools[0]"
   ]
  },
  {
   "cell_type": "code",
   "execution_count": 36,
   "id": "5fad5aaf",
   "metadata": {},
   "outputs": [
    {
     "data": {
      "text/plain": [
       "[{'type': 'function', 'function': {'name': 'get_inventory_levels', 'description': 'Returns the current inventory levels for all products.', 'parameters': {}}},\n",
       " {'type': 'function', 'function': {'name': 'get_weekly_sales', 'description': 'Returns the number of units sold for each product in the past week.', 'parameters': {}}}]"
      ]
     },
     "execution_count": 36,
     "metadata": {},
     "output_type": "execute_result"
    }
   ],
   "source": [
    "# Initialize the agent client\n",
    "agents_client = AgentsClient(\n",
    "    endpoint=AGENT_PROJECT_ENDPOINT,\n",
    "    credential=DefaultAzureCredential(\n",
    "        exclude_environment_credential=True,\n",
    "        exclude_managed_identity_credential=True\n",
    "    )\n",
    ")\n",
    "\n",
    "response = await session.list_tools()\n",
    "tools = response.tools\n",
    "\n",
    "# Build a function for each tool\n",
    "def make_tool_func(tool_name, tool_desc):\n",
    "     async def tool_func(**kwargs):\n",
    "         result = await session.call_tool(tool_name, kwargs)\n",
    "         return result\n",
    "        \n",
    "     tool_func.__name__ = tool_name\n",
    "     tool_func.__doc__ = tool_desc\n",
    "     return tool_func\n",
    "\n",
    "functions_dict = {tool.name: make_tool_func(tool.name, tool.description) for tool in tools}\n",
    "mcp_function_tool = FunctionTool(functions=list(functions_dict.values()))\n",
    "\n",
    "# Workaround to remove the required kwargs condition\n",
    "for i in range(len(mcp_function_tool.definitions)):\n",
    "    mcp_function_tool.definitions[i][\"function\"][\"parameters\"] = {}\n",
    "\n",
    "mcp_function_tool.definitions"
   ]
  },
  {
   "cell_type": "code",
   "execution_count": 37,
   "id": "71575d2f",
   "metadata": {},
   "outputs": [],
   "source": [
    "# Create the agent\n",
    "agent = agents_client.create_agent(\n",
    "     model=AGENT_MODEL_DEPLOYMENT,\n",
    "     name=\"inventory-agent\",\n",
    "     instructions=\"\"\"\n",
    "     You are an inventory assistant. Here are some general guidelines:\n",
    "     - Recommend restock if item inventory < 10  and weekly sales > 15\n",
    "     - Recommend clearance if item inventory > 20 and weekly sales < 5\n",
    "     \"\"\",\n",
    "     tools=mcp_function_tool.definitions\n",
    ")\n",
    "\n",
    "# Enable auto function calling\n",
    "agents_client.enable_auto_function_calls(tools=mcp_function_tool)"
   ]
  },
  {
   "cell_type": "code",
   "execution_count": 38,
   "id": "5ea2ce4a",
   "metadata": {},
   "outputs": [
    {
     "data": {
      "text/plain": [
       "[{'type': 'function', 'function': {'name': 'get_inventory_levels', 'description': 'Returns the current inventory levels for all products.', 'parameters': {'type': 'object', 'properties': {}}, 'strict': False}},\n",
       " {'type': 'function', 'function': {'name': 'get_weekly_sales', 'description': 'Returns the number of units sold for each product in the past week.', 'parameters': {'type': 'object', 'properties': {}}, 'strict': False}}]"
      ]
     },
     "execution_count": 38,
     "metadata": {},
     "output_type": "execute_result"
    }
   ],
   "source": [
    "agent.tools"
   ]
  },
  {
   "cell_type": "code",
   "execution_count": 39,
   "id": "694bfd08",
   "metadata": {},
   "outputs": [],
   "source": [
    "# Create a thread for the chat session\n",
    "thread = agents_client.threads.create()"
   ]
  },
  {
   "cell_type": "code",
   "execution_count": 40,
   "id": "71791512",
   "metadata": {},
   "outputs": [],
   "source": [
    "import time\n",
    "import json\n",
    "\n",
    "\n",
    "async def send_message(user_prompt: str):\n",
    "    # Invoke the prompt\n",
    "    message = agents_client.messages.create(\n",
    "        thread_id=thread.id,\n",
    "        role=MessageRole.USER,\n",
    "        content=user_prompt,\n",
    "    )\n",
    "    run = agents_client.runs.create(thread_id=thread.id, agent_id=agent.id)\n",
    "\n",
    "    # Monitor the run status\n",
    "    while run.status in [\"queued\", \"in_progress\", \"requires_action\"]:\n",
    "        time.sleep(1)\n",
    "        run = agents_client.runs.get(thread_id=thread.id, run_id=run.id)\n",
    "        tool_outputs = []\n",
    "\n",
    "        if run.status == \"requires_action\":\n",
    "            tool_calls = run.required_action.submit_tool_outputs.tool_calls\n",
    "            print(f\"[Tool calls]: {tool_calls}\")\n",
    "            for tool_call in tool_calls:\n",
    "                # Retrieve the matching function tool\n",
    "                function_name = tool_call.function.name\n",
    "                args_json = tool_call.function.arguments\n",
    "                kwargs = json.loads(args_json)\n",
    "                required_function = functions_dict.get(function_name)\n",
    "                output = await required_function(**kwargs)\n",
    "\n",
    "                # Append the output text\n",
    "                tool_outputs.append({\n",
    "                    \"tool_call_id\": tool_call.id,\n",
    "                    \"output\": output.content[0].text,\n",
    "                })\n",
    "            \n",
    "            # Submit the tool call output\n",
    "            agents_client.runs.submit_tool_outputs(thread_id=thread.id, run_id=run.id, tool_outputs=tool_outputs)\n",
    "            \n",
    "    # Check for failure\n",
    "    if run.status == \"failed\":\n",
    "        print(f\"Run failed: {run.last_error}\")\n",
    "\n",
    "    # Display the response\n",
    "    messages = agents_client.messages.list(thread_id=thread.id, order=ListSortOrder.ASCENDING)\n",
    "    for message in messages:\n",
    "        if message.text_messages:\n",
    "            last_msg = message.text_messages[-1]\n",
    "            print(f\"{message.role}:\\n{last_msg.text.value}\\n\")"
   ]
  },
  {
   "cell_type": "code",
   "execution_count": 41,
   "id": "e9fdb4f2",
   "metadata": {},
   "outputs": [
    {
     "name": "stdout",
     "output_type": "stream",
     "text": [
      "[Tool calls]: [{'id': 'call_WUWoYannDSzSgzp4VclNdu1N', 'type': 'function', 'function': {'name': 'get_inventory_levels', 'arguments': '{}'}}]\n",
      "MessageRole.USER:\n",
      "What are the current inventory levels?\n",
      "\n",
      "MessageRole.AGENT:\n",
      "Here are the current inventory levels for each product:\n",
      "\n",
      "- **Moisturizer**: 6\n",
      "- **Shampoo**: 8\n",
      "- **Body Spray**: 28\n",
      "- **Hair Gel**: 5\n",
      "- **Lip Balm**: 12\n",
      "- **Skin Serum**: 9\n",
      "- **Cleanser**: 30\n",
      "- **Conditioner**: 3\n",
      "- **Setting Powder**: 17\n",
      "- **Dry Shampoo**: 45\n",
      "\n"
     ]
    }
   ],
   "source": [
    "await send_message(\"What are the current inventory levels?\")"
   ]
  },
  {
   "cell_type": "code",
   "execution_count": 42,
   "id": "704c178a",
   "metadata": {},
   "outputs": [
    {
     "name": "stdout",
     "output_type": "stream",
     "text": [
      "[Tool calls]: [{'id': 'call_Xu5hfl3NWt6Viq7PcEAUVQh9', 'type': 'function', 'function': {'name': 'get_weekly_sales', 'arguments': '{}'}}]\n",
      "MessageRole.USER:\n",
      "What are the current inventory levels?\n",
      "\n",
      "MessageRole.AGENT:\n",
      "Here are the current inventory levels for each product:\n",
      "\n",
      "- **Moisturizer**: 6\n",
      "- **Shampoo**: 8\n",
      "- **Body Spray**: 28\n",
      "- **Hair Gel**: 5\n",
      "- **Lip Balm**: 12\n",
      "- **Skin Serum**: 9\n",
      "- **Cleanser**: 30\n",
      "- **Conditioner**: 3\n",
      "- **Setting Powder**: 17\n",
      "- **Dry Shampoo**: 45\n",
      "\n",
      "MessageRole.USER:\n",
      "What is the number of shampoos sold last week?\n",
      "\n",
      "MessageRole.AGENT:\n",
      "Last week, **18 shampoos** were sold.\n",
      "\n"
     ]
    }
   ],
   "source": [
    "await send_message(\"What is the number of shampoos sold last week?\")"
   ]
  },
  {
   "cell_type": "markdown",
   "id": "b8e0938c",
   "metadata": {},
   "source": [
    "# Clean up"
   ]
  },
  {
   "cell_type": "code",
   "execution_count": 43,
   "id": "a9061b07",
   "metadata": {},
   "outputs": [],
   "source": [
    "agents_client.delete_agent(agent.id)"
   ]
  },
  {
   "cell_type": "code",
   "execution_count": null,
   "id": "99887aa1",
   "metadata": {},
   "outputs": [],
   "source": [
    "await exit_stack.aclose()"
   ]
  }
 ],
 "metadata": {
  "kernelspec": {
   "display_name": ".venv",
   "language": "python",
   "name": "python3"
  },
  "language_info": {
   "codemirror_mode": {
    "name": "ipython",
    "version": 3
   },
   "file_extension": ".py",
   "mimetype": "text/x-python",
   "name": "python",
   "nbconvert_exporter": "python",
   "pygments_lexer": "ipython3",
   "version": "3.12.10"
  }
 },
 "nbformat": 4,
 "nbformat_minor": 5
}
